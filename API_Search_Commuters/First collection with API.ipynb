{
 "cells": [
  {
   "cell_type": "code",
   "execution_count": 1,
   "id": "14cd649b",
   "metadata": {},
   "outputs": [],
   "source": [
    "import requests\n",
    "import csv\n",
    "\n",
    "\n",
    "r = requests.get('https://api.census.gov/data/2020/acs/acs5?get=NAME,B08303_001E,B08303_013E&for=county:*&in=state:36')"
   ]
  },
  {
   "cell_type": "code",
   "execution_count": 3,
   "id": "92fafa66",
   "metadata": {},
   "outputs": [],
   "source": [
    "r_json = r.json()"
   ]
  },
  {
   "cell_type": "code",
   "execution_count": 5,
   "id": "5b1527b0",
   "metadata": {},
   "outputs": [],
   "source": [
    "with open('commute_data.csv', mode = 'w', newline = '') as file:\n",
    "    writer = csv.writer(file)\n",
    "    writer.writerows(r_json)"
   ]
  },
  {
   "cell_type": "code",
   "execution_count": null,
   "id": "3740fdb1",
   "metadata": {},
   "outputs": [],
   "source": []
  }
 ],
 "metadata": {
  "kernelspec": {
   "display_name": "Python 3 (ipykernel)",
   "language": "python",
   "name": "python3"
  },
  "language_info": {
   "codemirror_mode": {
    "name": "ipython",
    "version": 3
   },
   "file_extension": ".py",
   "mimetype": "text/x-python",
   "name": "python",
   "nbconvert_exporter": "python",
   "pygments_lexer": "ipython3",
   "version": "3.9.13"
  }
 },
 "nbformat": 4,
 "nbformat_minor": 5
}
